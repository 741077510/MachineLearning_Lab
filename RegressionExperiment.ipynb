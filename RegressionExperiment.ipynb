{
 "cells": [
  {
   "cell_type": "code",
   "execution_count": 1,
   "metadata": {},
   "outputs": [
    {
     "data": {
      "image/png": "[encoded data removed]",
      "text/plain": [
       "<matplotlib.figure.Figure at 0x11186f320>"
      ]
     },
     "metadata": {},
     "output_type": "display_data"
    }
   ],
   "source": [
    "from sklearn import datasets as ds\n",
    "from sklearn.model_selection import train_test_split\n",
    "import numpy as np\n",
    "import matplotlib.pyplot as plt\n",
    "\n",
    "def load_data():\n",
    "    # read the dataset and get x and label y\n",
    "    x, y = ds.load_svmlight_file(\"/Users/zoushuai/Downloads/housing_scale.txt\")\n",
    "    # use train_test_split function to split the dataset.randomly choose 20% as the validate dataset\n",
    "    x_train, x_validate, y_train, y_validate = train_test_split(x, y, test_size=0.2,random_state=23)\n",
    "    x_train = x_train.toarray()\n",
    "    x_validate = x_validate.toarray()\n",
    "    return x_train, x_validate, y_train, y_validate\n",
    "\n",
    "def linear_func(x, seta, b):\n",
    "    sum_setaX = np.dot(seta,x)\n",
    "    return sum_setaX + b\n",
    "def loss_func(x_set,y_set,seta,b):\n",
    "    loss = 0\n",
    "    for x, y in zip(x_set, y_set):\n",
    "        loss += np.square(y - linear_func(x, seta, b))/(2*x_set.shape[0])\n",
    "    return loss\n",
    "def bgd(x_set,y_set,seta,b,alpha):\n",
    "    for x, y in zip(x_set, y_set):\n",
    "        for j in range(x_train.shape[1]):\n",
    "            delta_seta[j] = alpha * (y - linear_func(x, seta, b)) * x[j]\n",
    "            seta[j] = seta[j] + delta_seta[j]\n",
    "            delta_b = alpha * (y - linear_func(x, seta, b))\n",
    "            b = b + delta_b\n",
    "    return seta,b\n",
    "if __name__ == '__main__':\n",
    "    #get test and validate datasets\n",
    "    x_train, x_validate, y_train, y_validate = load_data()\n",
    "\n",
    "    #initial some variable\n",
    "    alpha = 0.01     #learning rate\n",
    "    b = 0.1          #bias\n",
    "    maxIters = 100;  #max Iterations\n",
    "    seta = np.zeros(x_train.shape[1])\n",
    "    delta_seta = [0 for i in range(x_train.shape[1])]\n",
    "    delta_b = 0\n",
    "    iter_num = []\n",
    "    train_loss_sum = []\n",
    "    validate_loss_sum = []\n",
    "\n",
    "    for i in range(maxIters):\n",
    "        seta,b= bgd(x_train,y_train,seta,b,alpha)\n",
    "        #train loss\n",
    "        train_loss = loss_func(x_train,y_train,seta,b)\n",
    "        #validate loss\n",
    "        validate_loss = loss_func(x_validate,y_validate,seta,b)\n",
    "        iter_num.append(i)\n",
    "        train_loss_sum.append(train_loss)\n",
    "        validate_loss_sum.append(validate_loss)\n",
    "\n",
    "    plt.plot(iter_num, train_loss_sum,label=\"Train\")\n",
    "    plt.plot(iter_num,validate_loss_sum,label=\"Validate\")\n",
    "    plt.xlabel(\"Iterations\")\n",
    "    plt.ylabel(\"Loss\")\n",
    "    plt.title(\"Loss on train and validate\")\n",
    "    plt.legend(loc='upper right')\n",
    "    plt.show()"
   ]
  },
  {
   "cell_type": "code",
   "execution_count": null,
   "metadata": {
    "collapsed": true
   },
   "outputs": [],
   "source": []
  }
 ],
 "metadata": {
  "kernelspec": {
   "display_name": "Python 3",
   "language": "python",
   "name": "python3"
  },
  "language_info": {
   "codemirror_mode": {
    "name": "ipython",
    "version": 3
   },
   "file_extension": ".py",
   "mimetype": "text/x-python",
   "name": "python",
   "nbconvert_exporter": "python",
   "pygments_lexer": "ipython3",
   "version": "3.6.1"
  }
 },
 "nbformat": 4,
 "nbformat_minor": 2
}
