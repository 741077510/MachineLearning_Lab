{
 "cells": [
  {
   "cell_type": "code",
   "execution_count": 1,
   "metadata": {},
   "outputs": [
    {
     "data": {
      "image/png": "[encoded data removed]",
      "text/plain": [
       "<matplotlib.figure.Figure at 0x10b45b5f8>"
      ]
     },
     "metadata": {},
     "output_type": "display_data"
    }
   ],
   "source": [
    "from sklearn import datasets as ds\n",
    "from sklearn.model_selection import train_test_split\n",
    "import numpy as np\n",
    "import matplotlib.pyplot as plt\n",
    "\n",
    "def load_data():\n",
    "    # read the dataset and get x and label y\n",
    "    x, y = ds.load_svmlight_file(\"/Users/zoushuai/Downloads/australian_scale.txt\")\n",
    "    # use train_test_split function to split the dataset.randomly choose 20% as the validate dataset\n",
    "    x_train, x_validate, y_train, y_validate = train_test_split(x, y, test_size=0.2,random_state=23)\n",
    "    x_train = x_train.toarray()\n",
    "    x_validate = x_validate.toarray()\n",
    "    return x_train, x_validate, y_train, y_validate\n",
    "\n",
    "def linear_func(x, seta, b):\n",
    "    sum_setaX = np.dot(seta,x)\n",
    "    return sum_setaX + b\n",
    "\n",
    "def loss_func(x_train,y_train,seta,b,c):\n",
    "    count = 0\n",
    "    for x,y in zip(x_train,y_train):\n",
    "        conp = 1 - y * linear_func(x,seta,b)\n",
    "        if conp > 0:\n",
    "            count += conp\n",
    "        else:\n",
    "            count += 0\n",
    "    seta_squa = seta * seta\n",
    "    loss = 0.5 * seta_squa.sum(axis=0) + c * count\n",
    "    return loss\n",
    "def bgd(x_set,y_set,seta,b,delta_seta,delta_b):\n",
    "    for x, y in zip(x_set, y_set):\n",
    "        if (1 - y * linear_func(x, seta, b)) >= 0:\n",
    "            delta_seta = - c * x * y\n",
    "            delta_b = -1 * c * y\n",
    "        else:\n",
    "            delta_seta = 0\n",
    "            delta_b = 0\n",
    "        seta = seta - alpha * delta_seta\n",
    "        b = b - alpha * delta_b\n",
    "    return seta,b\n",
    "\n",
    "if __name__ == '__main__':\n",
    "    x_train, x_validate, y_train, y_validate = load_data()\n",
    "    seta = np.zeros(x_train.shape[1])\n",
    "    alpha = 0.01\n",
    "    b = 0.01\n",
    "    maxIters = 1000\n",
    "    #different c can result in big difference\n",
    "    # c = 0.008  0.01 0.001(bad) 0.004(not so good)\n",
    "    c = 0.01\n",
    "    delta_seta = np.zeros(x_train.shape[1])\n",
    "    delta_b = 0\n",
    "    train_loss_sum = []\n",
    "    validate_loss_sum = []\n",
    "    iter_arr = []\n",
    "    for i in range(maxIters):\n",
    "        seta,b = bgd(x_train,y_train,seta,b,delta_seta,delta_b)\n",
    "        train_loss = loss_func(x_train,y_train,seta,b,c)\n",
    "        validate_loss = loss_func(x_validate,y_validate,seta,b,c)\n",
    "        train_loss_sum.append(train_loss)\n",
    "        validate_loss_sum.append(validate_loss)\n",
    "        iter_arr.append(i)\n",
    "    plt.plot(iter_arr,train_loss_sum,label=\"Train\")\n",
    "    plt.plot(iter_arr,validate_loss_sum,label=\"Validate\")\n",
    "    plt.xlabel(\"Iterations\")\n",
    "    plt.ylabel(\"Loss\")\n",
    "    plt.title(\"Loss on train and validate\")\n",
    "    plt.legend(loc='upper right')\n",
    "    plt.show()"
   ]
  },
  {
   "cell_type": "code",
   "execution_count": null,
   "metadata": {
    "collapsed": true
   },
   "outputs": [],
   "source": []
  }
 ],
 "metadata": {
  "kernelspec": {
   "display_name": "Python 3",
   "language": "python",
   "name": "python3"
  },
  "language_info": {
   "codemirror_mode": {
    "name": "ipython",
    "version": 3
   },
   "file_extension": ".py",
   "mimetype": "text/x-python",
   "name": "python",
   "nbconvert_exporter": "python",
   "pygments_lexer": "ipython3",
   "version": "3.6.1"
  }
 },
 "nbformat": 4,
 "nbformat_minor": 2
}
